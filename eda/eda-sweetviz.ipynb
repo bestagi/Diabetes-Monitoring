{
 "cells": [
  {
   "cell_type": "code",
   "execution_count": 1,
   "id": "9b319231-e2b4-4118-a4d1-7dc631c791f9",
   "metadata": {},
   "outputs": [],
   "source": [
    "import pandas as pd\n",
    "import sweetviz as sv"
   ]
  },
  {
   "cell_type": "code",
   "execution_count": 2,
   "id": "6445d83a-785c-4662-b8f8-895f940539f1",
   "metadata": {},
   "outputs": [],
   "source": [
    "df = pd.read_csv(\"C:/Users/besta/Documents/Github/Diabetes-Monitoring/dataset/diabetes_012_health_indicators_BRFSS2015.csv\")\n",
    "df = df.astype(\"int64\")"
   ]
  },
  {
   "cell_type": "code",
   "execution_count": 3,
   "id": "8e858370-8cb0-4241-a481-215d7f0d4367",
   "metadata": {},
   "outputs": [
    {
     "data": {
      "application/vnd.jupyter.widget-view+json": {
       "model_id": "b9dfaa267dbe4fea9ce942fdafd7c9d8",
       "version_major": 2,
       "version_minor": 0
      },
      "text/plain": [
       "                                             |                                                                …"
      ]
     },
     "metadata": {},
     "output_type": "display_data"
    }
   ],
   "source": [
    "my_report = sv.analyze(df)"
   ]
  },
  {
   "cell_type": "code",
   "execution_count": 4,
   "id": "91752fad-6f3a-48ad-a9b0-751e791fe16b",
   "metadata": {},
   "outputs": [
    {
     "name": "stdout",
     "output_type": "stream",
     "text": [
      "Report SWEETVIZ_REPORT.html was generated! NOTEBOOK/COLAB USERS: the web browser MAY not pop up, regardless, the report IS saved in your notebook/colab files.\n"
     ]
    }
   ],
   "source": [
    "my_report.show_html()"
   ]
  }
 ],
 "metadata": {
  "kernelspec": {
   "display_name": "Python 3 (ipykernel)",
   "language": "python",
   "name": "python3"
  },
  "language_info": {
   "codemirror_mode": {
    "name": "ipython",
    "version": 3
   },
   "file_extension": ".py",
   "mimetype": "text/x-python",
   "name": "python",
   "nbconvert_exporter": "python",
   "pygments_lexer": "ipython3",
   "version": "3.10.5"
  }
 },
 "nbformat": 4,
 "nbformat_minor": 5
}
